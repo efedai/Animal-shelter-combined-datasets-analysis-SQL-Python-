{
 "cells": [
  {
   "cell_type": "code",
   "execution_count": 1,
   "metadata": {},
   "outputs": [],
   "source": [
    "import pandas as pd\n",
    "from selenium import webdriver\n",
    "import numpy as np\n",
    "import sqlite3\n",
    "from sqlalchemy import create_engine\n",
    "import seaborn as sns \n",
    "import matplotlib.pyplot as plt\n",
    "%matplotlib inline \n",
    "import requests                         \n",
    "import json\n",
    "import csv\n",
    "\n"
   ]
  },
  {
   "cell_type": "code",
   "execution_count": 2,
   "metadata": {},
   "outputs": [],
   "source": [
    "# using selenium to scrape webpage for data.\n",
    "\n",
    "base_url =(\"https://www.dallasopendata.com/City-Services/FY2020-Dallas-Animal-Shelter-Data/7h2m-3um5\")\n",
    "driver = webdriver.Firefox()\n",
    "driver.get(base_url)"
   ]
  },
  {
   "cell_type": "code",
   "execution_count": 3,
   "metadata": {},
   "outputs": [],
   "source": [
    "# pulling data specific element from the webpage using xpath.\n",
    "\n",
    "element= driver.find_element_by_xpath('/html/body/main/div/div[1]/div/div[2]/section[4]/div[2]/div/div/div[5]/div[1]/div')"
   ]
  },
  {
   "cell_type": "code",
   "execution_count": 4,
   "metadata": {},
   "outputs": [],
   "source": [
    "element_html= element.get_attribute('innerHTML')          # using the get attribute to get html information"
   ]
  },
  {
   "cell_type": "code",
   "execution_count": 5,
   "metadata": {},
   "outputs": [],
   "source": [
    "df_webpage= pd.read_html(element_html)[0]                    # using pandas to read html in a more readable format."
   ]
  },
  {
   "cell_type": "code",
   "execution_count": 6,
   "metadata": {},
   "outputs": [],
   "source": [
    "df_webpage = pd.DataFrame(df_webpage)"
   ]
  },
  {
   "cell_type": "code",
   "execution_count": 7,
   "metadata": {},
   "outputs": [],
   "source": [
    "                                                                  # Dropping columns that are not needed.\n",
    "\n",
    "df_webpage.drop('Additional Information', axis=1, inplace=True) \n",
    "df_webpage.drop('Receipt Number', axis=1, inplace=True)\n",
    "df_webpage.drop('Tag Type', axis=1, inplace=True)\n",
    "df_webpage.drop('Activity Number', axis=1, inplace=True)\n",
    "df_webpage.drop('Service Request Number', axis=1, inplace=True)\n",
    "df_webpage.drop('Hold Request', axis=1, inplace=True)\n"
   ]
  },
  {
   "cell_type": "code",
   "execution_count": 8,
   "metadata": {},
   "outputs": [],
   "source": [
    "df_webpage.rename(columns = {'Reason':'Surrender Reason'}, inplace = True)   # formatting column names\n",
    "df_webpage.rename(columns = {'Intake Time':'Intake_Hour'}, inplace = True)"
   ]
  },
  {
   "cell_type": "code",
   "execution_count": 9,
   "metadata": {},
   "outputs": [
    {
     "name": "stdout",
     "output_type": "stream",
     "text": [
      "number of duplicate rows: (0, 28)\n"
     ]
    }
   ],
   "source": [
    "df_webpage = df_webpage.drop_duplicates()                          # dropping duplicate rows.\n",
    "duplicate_rows = df_webpage[df_webpage.duplicated()]                            \n",
    "print(\"number of duplicate rows:\", duplicate_rows.shape)"
   ]
  },
  {
   "cell_type": "code",
   "execution_count": 10,
   "metadata": {},
   "outputs": [],
   "source": [
    "df_webpage = df_webpage.dropna(how='all')                                      # dropping rows with all null values"
   ]
  },
  {
   "cell_type": "code",
   "execution_count": 11,
   "metadata": {},
   "outputs": [
    {
     "name": "stdout",
     "output_type": "stream",
     "text": [
      "Animal Id            0\n",
      "Animal Type          0\n",
      "Animal Breed         0\n",
      "Kennel Number        0\n",
      "Kennel Status        0\n",
      "Activity Sequence    0\n",
      "Source Id            0\n",
      "Census Tract         0\n",
      "Council District     0\n",
      "Intake Type          0\n",
      "Intake Subtype       0\n",
      "Intake Total         0\n",
      "Surrender Reason     0\n",
      "Staff Id             0\n",
      "Intake Date          0\n",
      "Intake_Hour          0\n",
      "Due Out              0\n",
      "Intake Condition     0\n",
      "Outcome Type         0\n",
      "Outcome Subtype      0\n",
      "Outcome Date         0\n",
      "Outcome Time         0\n",
      "Impound Number       0\n",
      "Outcome Condition    0\n",
      "Chip Status          0\n",
      "Animal Origin        0\n",
      "Month                0\n",
      "Year                 0\n",
      "dtype: int64\n"
     ]
    }
   ],
   "source": [
    "print(df_webpage.isnull().sum())       # checking for null values in dataset."
   ]
  },
  {
   "cell_type": "code",
   "execution_count": 12,
   "metadata": {},
   "outputs": [
    {
     "data": {
      "text/html": [
       "<div>\n",
       "<style scoped>\n",
       "    .dataframe tbody tr th:only-of-type {\n",
       "        vertical-align: middle;\n",
       "    }\n",
       "\n",
       "    .dataframe tbody tr th {\n",
       "        vertical-align: top;\n",
       "    }\n",
       "\n",
       "    .dataframe thead th {\n",
       "        text-align: right;\n",
       "    }\n",
       "</style>\n",
       "<table border=\"1\" class=\"dataframe\">\n",
       "  <thead>\n",
       "    <tr style=\"text-align: right;\">\n",
       "      <th></th>\n",
       "      <th>Activity Sequence</th>\n",
       "      <th>Census Tract</th>\n",
       "      <th>Council District</th>\n",
       "      <th>Intake Total</th>\n",
       "    </tr>\n",
       "  </thead>\n",
       "  <tbody>\n",
       "    <tr>\n",
       "      <td>count</td>\n",
       "      <td>13.0</td>\n",
       "      <td>13.000000</td>\n",
       "      <td>13.000000</td>\n",
       "      <td>13.0</td>\n",
       "    </tr>\n",
       "    <tr>\n",
       "      <td>mean</td>\n",
       "      <td>1.0</td>\n",
       "      <td>9132.000000</td>\n",
       "      <td>4.846154</td>\n",
       "      <td>1.0</td>\n",
       "    </tr>\n",
       "    <tr>\n",
       "      <td>std</td>\n",
       "      <td>0.0</td>\n",
       "      <td>4890.088053</td>\n",
       "      <td>3.362691</td>\n",
       "      <td>0.0</td>\n",
       "    </tr>\n",
       "    <tr>\n",
       "      <td>min</td>\n",
       "      <td>1.0</td>\n",
       "      <td>1400.000000</td>\n",
       "      <td>1.000000</td>\n",
       "      <td>1.0</td>\n",
       "    </tr>\n",
       "    <tr>\n",
       "      <td>25%</td>\n",
       "      <td>1.0</td>\n",
       "      <td>6900.000000</td>\n",
       "      <td>4.000000</td>\n",
       "      <td>1.0</td>\n",
       "    </tr>\n",
       "    <tr>\n",
       "      <td>50%</td>\n",
       "      <td>1.0</td>\n",
       "      <td>8701.000000</td>\n",
       "      <td>4.000000</td>\n",
       "      <td>1.0</td>\n",
       "    </tr>\n",
       "    <tr>\n",
       "      <td>75%</td>\n",
       "      <td>1.0</td>\n",
       "      <td>9303.000000</td>\n",
       "      <td>5.000000</td>\n",
       "      <td>1.0</td>\n",
       "    </tr>\n",
       "    <tr>\n",
       "      <td>max</td>\n",
       "      <td>1.0</td>\n",
       "      <td>20500.000000</td>\n",
       "      <td>14.000000</td>\n",
       "      <td>1.0</td>\n",
       "    </tr>\n",
       "  </tbody>\n",
       "</table>\n",
       "</div>"
      ],
      "text/plain": [
       "       Activity Sequence  Census Tract  Council District  Intake Total\n",
       "count               13.0     13.000000         13.000000          13.0\n",
       "mean                 1.0   9132.000000          4.846154           1.0\n",
       "std                  0.0   4890.088053          3.362691           0.0\n",
       "min                  1.0   1400.000000          1.000000           1.0\n",
       "25%                  1.0   6900.000000          4.000000           1.0\n",
       "50%                  1.0   8701.000000          4.000000           1.0\n",
       "75%                  1.0   9303.000000          5.000000           1.0\n",
       "max                  1.0  20500.000000         14.000000           1.0"
      ]
     },
     "execution_count": 12,
     "metadata": {},
     "output_type": "execute_result"
    }
   ],
   "source": [
    "df_webpage.describe()                  # overall numerical columns spread"
   ]
  },
  {
   "cell_type": "code",
   "execution_count": null,
   "metadata": {},
   "outputs": [],
   "source": []
  },
  {
   "cell_type": "code",
   "execution_count": 13,
   "metadata": {},
   "outputs": [
    {
     "data": {
      "text/plain": [
       "Animal Id            object\n",
       "Animal Type          object\n",
       "Animal Breed         object\n",
       "Kennel Number        object\n",
       "Kennel Status        object\n",
       "Activity Sequence     int64\n",
       "Source Id            object\n",
       "Census Tract          int64\n",
       "Council District      int64\n",
       "Intake Type          object\n",
       "Intake Subtype       object\n",
       "Intake Total          int64\n",
       "Surrender Reason     object\n",
       "Staff Id             object\n",
       "Intake Date          object\n",
       "Intake_Hour          object\n",
       "Due Out              object\n",
       "Intake Condition     object\n",
       "Outcome Type         object\n",
       "Outcome Subtype      object\n",
       "Outcome Date         object\n",
       "Outcome Time         object\n",
       "Impound Number       object\n",
       "Outcome Condition    object\n",
       "Chip Status          object\n",
       "Animal Origin        object\n",
       "Month                object\n",
       "Year                 object\n",
       "dtype: object"
      ]
     },
     "execution_count": 13,
     "metadata": {},
     "output_type": "execute_result"
    }
   ],
   "source": [
    "df_webpage.dtypes                        "
   ]
  },
  {
   "cell_type": "code",
   "execution_count": null,
   "metadata": {},
   "outputs": [],
   "source": []
  },
  {
   "cell_type": "code",
   "execution_count": null,
   "metadata": {},
   "outputs": [],
   "source": []
  },
  {
   "cell_type": "code",
   "execution_count": null,
   "metadata": {},
   "outputs": [],
   "source": []
  },
  {
   "cell_type": "code",
   "execution_count": 14,
   "metadata": {},
   "outputs": [],
   "source": [
    "data_not_clean = pd.read_csv(\"animal_csv.csv\")"
   ]
  },
  {
   "cell_type": "code",
   "execution_count": 15,
   "metadata": {},
   "outputs": [],
   "source": [
    "data_not_clean = pd.DataFrame(data_not_clean)"
   ]
  },
  {
   "cell_type": "code",
   "execution_count": 16,
   "metadata": {},
   "outputs": [
    {
     "name": "stdout",
     "output_type": "stream",
     "text": [
      "<class 'pandas.core.frame.DataFrame'>\n",
      "RangeIndex: 79672 entries, 0 to 79671\n",
      "Data columns (total 41 columns):\n",
      "age_upon_outcome              79672 non-null object\n",
      "animal_id_outcome             79672 non-null object\n",
      "date_of_birth                 79672 non-null object\n",
      "outcome_subtype               36348 non-null object\n",
      "outcome_type                  79662 non-null object\n",
      "sex_upon_outcome              79671 non-null object\n",
      "age_upon_outcome_(days)       79672 non-null int64\n",
      "age_upon_outcome_(years)      79672 non-null float64\n",
      "age_upon_outcome_age_group    79672 non-null object\n",
      "outcome_datetime              79672 non-null object\n",
      "outcome_month                 79672 non-null int64\n",
      "outcome_year                  79672 non-null int64\n",
      "outcome_monthyear             79672 non-null object\n",
      "outcome_weekday               79672 non-null object\n",
      "outcome_hour                  79672 non-null int64\n",
      "outcome_number                79672 non-null int64\n",
      "dob_year                      79672 non-null int64\n",
      "dob_month                     79672 non-null int64\n",
      "dob_monthyear                 79672 non-null object\n",
      "age_upon_intake               79672 non-null object\n",
      "animal_id_intake              79672 non-null object\n",
      "animal_type                   79672 non-null object\n",
      "breed                         79672 non-null object\n",
      "color                         79672 non-null object\n",
      "found_location                79672 non-null object\n",
      "intake_condition              79672 non-null object\n",
      "intake_type                   79672 non-null object\n",
      "sex_upon_intake               79671 non-null object\n",
      "count                         79672 non-null int64\n",
      "age_upon_intake_(days)        79672 non-null int64\n",
      "age_upon_intake_(years)       79672 non-null float64\n",
      "age_upon_intake_age_group     79672 non-null object\n",
      "intake_datetime               79672 non-null object\n",
      "intake_month                  79672 non-null int64\n",
      "intake_year                   79672 non-null int64\n",
      "intake_monthyear              79672 non-null object\n",
      "intake_weekday                79672 non-null object\n",
      "intake_hour                   79672 non-null int64\n",
      "intake_number                 79672 non-null int64\n",
      "time_in_shelter               79672 non-null object\n",
      "time_in_shelter_days          79672 non-null float64\n",
      "dtypes: float64(3), int64(13), object(25)\n",
      "memory usage: 24.9+ MB\n"
     ]
    }
   ],
   "source": [
    "data_not_clean.info()               # appears everything came across ok, column types, header appear ok. no modification needed"
   ]
  },
  {
   "cell_type": "code",
   "execution_count": 17,
   "metadata": {},
   "outputs": [],
   "source": [
    "to_drop = ['outcome_weekday','sex_upon_outcome',  'age_upon_intake_(days)', 'outcome_subtype', 'dob_year', 'dob_month','age_upon_outcome_age_group', 'outcome_month', 'outcome_year', 'outcome_hour', 'outcome_number' ]          # removing some unnecessary columns.\n",
    "data_not_clean.drop(to_drop, inplace= True, axis=1 )"
   ]
  },
  {
   "cell_type": "code",
   "execution_count": 18,
   "metadata": {},
   "outputs": [
    {
     "name": "stdout",
     "output_type": "stream",
     "text": [
      "age_upon_outcome              0\n",
      "animal_id_outcome             0\n",
      "date_of_birth                 0\n",
      "outcome_type                 10\n",
      "age_upon_outcome_(days)       0\n",
      "age_upon_outcome_(years)      0\n",
      "outcome_datetime              0\n",
      "outcome_monthyear             0\n",
      "dob_monthyear                 0\n",
      "age_upon_intake               0\n",
      "animal_id_intake              0\n",
      "animal_type                   0\n",
      "breed                         0\n",
      "color                         0\n",
      "found_location                0\n",
      "intake_condition              0\n",
      "intake_type                   0\n",
      "sex_upon_intake               1\n",
      "count                         0\n",
      "age_upon_intake_(years)       0\n",
      "age_upon_intake_age_group     0\n",
      "intake_datetime               0\n",
      "intake_month                  0\n",
      "intake_year                   0\n",
      "intake_monthyear              0\n",
      "intake_weekday                0\n",
      "intake_hour                   0\n",
      "intake_number                 0\n",
      "time_in_shelter               0\n",
      "time_in_shelter_days          0\n",
      "dtype: int64\n"
     ]
    }
   ],
   "source": [
    "print(data_not_clean.isnull().sum())                     # checking how many null values are present. "
   ]
  },
  {
   "cell_type": "code",
   "execution_count": 19,
   "metadata": {},
   "outputs": [
    {
     "name": "stdout",
     "output_type": "stream",
     "text": [
      "number of duplicate rows: (35, 30)\n"
     ]
    }
   ],
   "source": [
    "df_csv=data_not_clean.dropna(axis=0)                                      # seeing how many duplicate rows are present.\n",
    "duplicate_rows = df_csv[df_csv.duplicated()]                            # and dropping null values.\n",
    "print(\"number of duplicate rows:\", duplicate_rows.shape)\n"
   ]
  },
  {
   "cell_type": "code",
   "execution_count": 20,
   "metadata": {},
   "outputs": [
    {
     "name": "stdout",
     "output_type": "stream",
     "text": [
      "age_upon_outcome             0\n",
      "animal_id_outcome            0\n",
      "date_of_birth                0\n",
      "outcome_type                 0\n",
      "age_upon_outcome_(days)      0\n",
      "age_upon_outcome_(years)     0\n",
      "outcome_datetime             0\n",
      "outcome_monthyear            0\n",
      "dob_monthyear                0\n",
      "age_upon_intake              0\n",
      "animal_id_intake             0\n",
      "animal_type                  0\n",
      "breed                        0\n",
      "color                        0\n",
      "found_location               0\n",
      "intake_condition             0\n",
      "intake_type                  0\n",
      "sex_upon_intake              0\n",
      "count                        0\n",
      "age_upon_intake_(years)      0\n",
      "age_upon_intake_age_group    0\n",
      "intake_datetime              0\n",
      "intake_month                 0\n",
      "intake_year                  0\n",
      "intake_monthyear             0\n",
      "intake_weekday               0\n",
      "intake_hour                  0\n",
      "intake_number                0\n",
      "time_in_shelter              0\n",
      "time_in_shelter_days         0\n",
      "dtype: int64\n"
     ]
    }
   ],
   "source": [
    "print(df_csv.isnull().sum())       # see no more null values in dataset."
   ]
  },
  {
   "cell_type": "code",
   "execution_count": 21,
   "metadata": {},
   "outputs": [
    {
     "name": "stdout",
     "output_type": "stream",
     "text": [
      "number of duplicate rows: (0, 30)\n"
     ]
    }
   ],
   "source": [
    "df_csv = df_csv.drop_duplicates()                                        # dropping duplicate rows\n",
    "duplicate_rows = df_csv[df_csv.duplicated()]                            \n",
    "print(\"number of duplicate rows:\", duplicate_rows.shape)"
   ]
  },
  {
   "cell_type": "code",
   "execution_count": 22,
   "metadata": {},
   "outputs": [
    {
     "name": "stdout",
     "output_type": "stream",
     "text": [
      "<class 'pandas.core.frame.DataFrame'>\n",
      "Int64Index: 79626 entries, 0 to 79671\n",
      "Data columns (total 30 columns):\n",
      "age_upon_outcome             79626 non-null object\n",
      "animal_id_outcome            79626 non-null object\n",
      "date_of_birth                79626 non-null object\n",
      "outcome_type                 79626 non-null object\n",
      "age_upon_outcome_(days)      79626 non-null int64\n",
      "age_upon_outcome_(years)     79626 non-null float64\n",
      "outcome_datetime             79626 non-null object\n",
      "outcome_monthyear            79626 non-null object\n",
      "dob_monthyear                79626 non-null object\n",
      "age_upon_intake              79626 non-null object\n",
      "animal_id_intake             79626 non-null object\n",
      "animal_type                  79626 non-null object\n",
      "breed                        79626 non-null object\n",
      "color                        79626 non-null object\n",
      "found_location               79626 non-null object\n",
      "intake_condition             79626 non-null object\n",
      "intake_type                  79626 non-null object\n",
      "sex_upon_intake              79626 non-null object\n",
      "count                        79626 non-null int64\n",
      "age_upon_intake_(years)      79626 non-null float64\n",
      "age_upon_intake_age_group    79626 non-null object\n",
      "intake_datetime              79626 non-null object\n",
      "intake_month                 79626 non-null int64\n",
      "intake_year                  79626 non-null int64\n",
      "intake_monthyear             79626 non-null object\n",
      "intake_weekday               79626 non-null object\n",
      "intake_hour                  79626 non-null int64\n",
      "intake_number                79626 non-null int64\n",
      "time_in_shelter              79626 non-null object\n",
      "time_in_shelter_days         79626 non-null float64\n",
      "dtypes: float64(3), int64(6), object(21)\n",
      "memory usage: 18.8+ MB\n"
     ]
    }
   ],
   "source": [
    "df_csv.info()"
   ]
  },
  {
   "cell_type": "code",
   "execution_count": 23,
   "metadata": {},
   "outputs": [
    {
     "data": {
      "text/plain": [
       "<matplotlib.axes._subplots.AxesSubplot at 0x295c96be5c8>"
      ]
     },
     "execution_count": 23,
     "metadata": {},
     "output_type": "execute_result"
    },
    {
     "data": {
      "image/png": "[encoded data removed]",
      "text/plain": [
       "<Figure size 432x288 with 1 Axes>"
      ]
     },
     "metadata": {
      "needs_background": "light"
     },
     "output_type": "display_data"
    }
   ],
   "source": [
    "sns.boxplot(df_csv['age_upon_outcome_(years)'])             # checking age box plot for outliers\n"
   ]
  },
  {
   "cell_type": "code",
   "execution_count": 24,
   "metadata": {},
   "outputs": [],
   "source": [
    "df_csv = df_csv[(df_csv['age_upon_outcome_(years)'] <= 20)]    # removing possible outliers of ages greater than 20\n"
   ]
  },
  {
   "cell_type": "code",
   "execution_count": 25,
   "metadata": {},
   "outputs": [],
   "source": [
    "df_csv.rename(columns = {'age_upon_outcome_(years)':'Outcome Age(years)'}, inplace = True)   # formatting column names\n",
    "df_csv.rename(columns = {'age_upon_outcome_(days)':'Outcome Age(days)'}, inplace = True)      \n",
    "df_csv.rename(columns = {'animal_id_outcome':'Animal Id'}, inplace = True)\n",
    "df_csv.rename(columns = {'animal_type':'Animal Type'}, inplace = True)\n",
    "df_csv.rename(columns = {'breed':'Animal Breed'}, inplace = True)\n",
    "df_csv.rename(columns = {'intake_type':'Intake Type'}, inplace = True)\n",
    "df_csv.rename(columns = {'outcome_monthyear':'Outcome Date'}, inplace = True)\n",
    "df_csv.rename(columns = {'dob_monthyear':'Birthdate'}, inplace = True)\n",
    "df_csv.rename(columns = {'count':'Count'}, inplace = True)\n",
    "df_csv.rename(columns = {'age_upon_intake_(years)':'Intake Age(year)'}, inplace = True)\n",
    "df_csv.rename(columns = {'intake_month':'Intake Month'}, inplace = True)\n",
    "df_csv.rename(columns = {'intake_year':'Year'}, inplace = True)\n",
    "df_csv.rename(columns = {'intake_hour':'Intake Hour'}, inplace = True)\n",
    "df_csv.rename(columns = {'intake_number':'Intake Number'}, inplace = True)\n",
    "df_csv.rename(columns = {'time_in_shelter_days':'Time in Shelter(days)'}, inplace = True)\n",
    "df_csv.rename(columns = {'color':'Color'}, inplace = True)\n",
    "df_csv.rename(columns = {'Intake Age(year)':'Intake Age(years)'}, inplace = True)\n",
    "df_csv.rename(columns = {'sex_upon_intake':'Sex'}, inplace = True)"
   ]
  },
  {
   "cell_type": "code",
   "execution_count": 26,
   "metadata": {},
   "outputs": [
    {
     "data": {
      "text/html": [
       "<div>\n",
       "<style scoped>\n",
       "    .dataframe tbody tr th:only-of-type {\n",
       "        vertical-align: middle;\n",
       "    }\n",
       "\n",
       "    .dataframe tbody tr th {\n",
       "        vertical-align: top;\n",
       "    }\n",
       "\n",
       "    .dataframe thead th {\n",
       "        text-align: right;\n",
       "    }\n",
       "</style>\n",
       "<table border=\"1\" class=\"dataframe\">\n",
       "  <thead>\n",
       "    <tr style=\"text-align: right;\">\n",
       "      <th></th>\n",
       "      <th>Outcome Age(days)</th>\n",
       "      <th>Outcome Age(years)</th>\n",
       "      <th>Count</th>\n",
       "      <th>Intake Age(years)</th>\n",
       "      <th>Intake Month</th>\n",
       "      <th>Year</th>\n",
       "      <th>Intake Hour</th>\n",
       "      <th>Intake Number</th>\n",
       "      <th>Time in Shelter(days)</th>\n",
       "    </tr>\n",
       "  </thead>\n",
       "  <tbody>\n",
       "    <tr>\n",
       "      <td>count</td>\n",
       "      <td>79621.000000</td>\n",
       "      <td>79621.000000</td>\n",
       "      <td>79621.0</td>\n",
       "      <td>79621.000000</td>\n",
       "      <td>79621.000000</td>\n",
       "      <td>79621.000000</td>\n",
       "      <td>79621.000000</td>\n",
       "      <td>79621.000000</td>\n",
       "      <td>79621.000000</td>\n",
       "    </tr>\n",
       "    <tr>\n",
       "      <td>mean</td>\n",
       "      <td>781.656711</td>\n",
       "      <td>2.141525</td>\n",
       "      <td>1.0</td>\n",
       "      <td>2.106691</td>\n",
       "      <td>6.584846</td>\n",
       "      <td>2015.435651</td>\n",
       "      <td>13.487434</td>\n",
       "      <td>1.126776</td>\n",
       "      <td>16.759942</td>\n",
       "    </tr>\n",
       "    <tr>\n",
       "      <td>std</td>\n",
       "      <td>1057.037852</td>\n",
       "      <td>2.895994</td>\n",
       "      <td>0.0</td>\n",
       "      <td>2.889068</td>\n",
       "      <td>3.366532</td>\n",
       "      <td>1.302894</td>\n",
       "      <td>3.121573</td>\n",
       "      <td>0.456006</td>\n",
       "      <td>41.681406</td>\n",
       "    </tr>\n",
       "    <tr>\n",
       "      <td>min</td>\n",
       "      <td>0.000000</td>\n",
       "      <td>0.000000</td>\n",
       "      <td>1.0</td>\n",
       "      <td>0.000000</td>\n",
       "      <td>1.000000</td>\n",
       "      <td>2013.000000</td>\n",
       "      <td>0.000000</td>\n",
       "      <td>1.000000</td>\n",
       "      <td>0.000000</td>\n",
       "    </tr>\n",
       "    <tr>\n",
       "      <td>25%</td>\n",
       "      <td>90.000000</td>\n",
       "      <td>0.246575</td>\n",
       "      <td>1.0</td>\n",
       "      <td>0.164384</td>\n",
       "      <td>4.000000</td>\n",
       "      <td>2014.000000</td>\n",
       "      <td>11.000000</td>\n",
       "      <td>1.000000</td>\n",
       "      <td>1.102778</td>\n",
       "    </tr>\n",
       "    <tr>\n",
       "      <td>50%</td>\n",
       "      <td>365.000000</td>\n",
       "      <td>1.000000</td>\n",
       "      <td>1.0</td>\n",
       "      <td>1.000000</td>\n",
       "      <td>7.000000</td>\n",
       "      <td>2015.000000</td>\n",
       "      <td>13.000000</td>\n",
       "      <td>1.000000</td>\n",
       "      <td>4.988194</td>\n",
       "    </tr>\n",
       "    <tr>\n",
       "      <td>75%</td>\n",
       "      <td>1095.000000</td>\n",
       "      <td>3.000000</td>\n",
       "      <td>1.0</td>\n",
       "      <td>3.000000</td>\n",
       "      <td>10.000000</td>\n",
       "      <td>2017.000000</td>\n",
       "      <td>16.000000</td>\n",
       "      <td>1.000000</td>\n",
       "      <td>13.650694</td>\n",
       "    </tr>\n",
       "    <tr>\n",
       "      <td>max</td>\n",
       "      <td>7300.000000</td>\n",
       "      <td>20.000000</td>\n",
       "      <td>1.0</td>\n",
       "      <td>20.000000</td>\n",
       "      <td>12.000000</td>\n",
       "      <td>2018.000000</td>\n",
       "      <td>23.000000</td>\n",
       "      <td>13.000000</td>\n",
       "      <td>1606.194444</td>\n",
       "    </tr>\n",
       "  </tbody>\n",
       "</table>\n",
       "</div>"
      ],
      "text/plain": [
       "       Outcome Age(days)  Outcome Age(years)    Count  Intake Age(years)  \\\n",
       "count       79621.000000        79621.000000  79621.0       79621.000000   \n",
       "mean          781.656711            2.141525      1.0           2.106691   \n",
       "std          1057.037852            2.895994      0.0           2.889068   \n",
       "min             0.000000            0.000000      1.0           0.000000   \n",
       "25%            90.000000            0.246575      1.0           0.164384   \n",
       "50%           365.000000            1.000000      1.0           1.000000   \n",
       "75%          1095.000000            3.000000      1.0           3.000000   \n",
       "max          7300.000000           20.000000      1.0          20.000000   \n",
       "\n",
       "       Intake Month          Year   Intake Hour  Intake Number  \\\n",
       "count  79621.000000  79621.000000  79621.000000   79621.000000   \n",
       "mean       6.584846   2015.435651     13.487434       1.126776   \n",
       "std        3.366532      1.302894      3.121573       0.456006   \n",
       "min        1.000000   2013.000000      0.000000       1.000000   \n",
       "25%        4.000000   2014.000000     11.000000       1.000000   \n",
       "50%        7.000000   2015.000000     13.000000       1.000000   \n",
       "75%       10.000000   2017.000000     16.000000       1.000000   \n",
       "max       12.000000   2018.000000     23.000000      13.000000   \n",
       "\n",
       "       Time in Shelter(days)  \n",
       "count           79621.000000  \n",
       "mean               16.759942  \n",
       "std                41.681406  \n",
       "min                 0.000000  \n",
       "25%                 1.102778  \n",
       "50%                 4.988194  \n",
       "75%                13.650694  \n",
       "max              1606.194444  "
      ]
     },
     "execution_count": 26,
     "metadata": {},
     "output_type": "execute_result"
    }
   ],
   "source": [
    "df_csv.describe()        # overall spread appears ok, no glaring error noticed."
   ]
  },
  {
   "cell_type": "code",
   "execution_count": null,
   "metadata": {},
   "outputs": [],
   "source": []
  },
  {
   "cell_type": "code",
   "execution_count": 27,
   "metadata": {},
   "outputs": [
    {
     "name": "stdout",
     "output_type": "stream",
     "text": [
      "<class 'pandas.core.frame.DataFrame'>\n",
      "Int64Index: 79621 entries, 0 to 79671\n",
      "Data columns (total 30 columns):\n",
      "age_upon_outcome             79621 non-null object\n",
      "Animal Id                    79621 non-null object\n",
      "date_of_birth                79621 non-null object\n",
      "outcome_type                 79621 non-null object\n",
      "Outcome Age(days)            79621 non-null int64\n",
      "Outcome Age(years)           79621 non-null float64\n",
      "outcome_datetime             79621 non-null object\n",
      "Outcome Date                 79621 non-null object\n",
      "Birthdate                    79621 non-null object\n",
      "age_upon_intake              79621 non-null object\n",
      "animal_id_intake             79621 non-null object\n",
      "Animal Type                  79621 non-null object\n",
      "Animal Breed                 79621 non-null object\n",
      "Color                        79621 non-null object\n",
      "found_location               79621 non-null object\n",
      "intake_condition             79621 non-null object\n",
      "Intake Type                  79621 non-null object\n",
      "Sex                          79621 non-null object\n",
      "Count                        79621 non-null int64\n",
      "Intake Age(years)            79621 non-null float64\n",
      "age_upon_intake_age_group    79621 non-null object\n",
      "intake_datetime              79621 non-null object\n",
      "Intake Month                 79621 non-null int64\n",
      "Year                         79621 non-null int64\n",
      "intake_monthyear             79621 non-null object\n",
      "intake_weekday               79621 non-null object\n",
      "Intake Hour                  79621 non-null int64\n",
      "Intake Number                79621 non-null int64\n",
      "time_in_shelter              79621 non-null object\n",
      "Time in Shelter(days)        79621 non-null float64\n",
      "dtypes: float64(3), int64(6), object(21)\n",
      "memory usage: 18.8+ MB\n"
     ]
    }
   ],
   "source": [
    "df_csv.info()                       # data types are acceptable \n"
   ]
  },
  {
   "cell_type": "code",
   "execution_count": 28,
   "metadata": {},
   "outputs": [],
   "source": [
    "df_api = pd.read_json(\"https://data.sonomacounty.ca.gov/resource/924a-vesw.json\")  # loading endpoint api from webpage into pandas.\n",
    "df_api= pd.DataFrame(df_api)                                                       # converting into pandas dataframe"
   ]
  },
  {
   "cell_type": "code",
   "execution_count": 29,
   "metadata": {},
   "outputs": [
    {
     "data": {
      "text/html": [
       "<div>\n",
       "<style scoped>\n",
       "    .dataframe tbody tr th:only-of-type {\n",
       "        vertical-align: middle;\n",
       "    }\n",
       "\n",
       "    .dataframe tbody tr th {\n",
       "        vertical-align: top;\n",
       "    }\n",
       "\n",
       "    .dataframe thead th {\n",
       "        text-align: right;\n",
       "    }\n",
       "</style>\n",
       "<table border=\"1\" class=\"dataframe\">\n",
       "  <thead>\n",
       "    <tr style=\"text-align: right;\">\n",
       "      <th></th>\n",
       "      <th>name</th>\n",
       "      <th>type</th>\n",
       "      <th>breed</th>\n",
       "      <th>color</th>\n",
       "      <th>sex</th>\n",
       "      <th>size</th>\n",
       "      <th>impound_number</th>\n",
       "      <th>kennel_number</th>\n",
       "      <th>id</th>\n",
       "      <th>intake_date</th>\n",
       "      <th>...</th>\n",
       "      <th>outcome_subtype</th>\n",
       "      <th>intake_condition</th>\n",
       "      <th>outcome_condition</th>\n",
       "      <th>intake_jurisdiction</th>\n",
       "      <th>outcome_jurisdiction</th>\n",
       "      <th>zip_code</th>\n",
       "      <th>location</th>\n",
       "      <th>intake_total</th>\n",
       "      <th>:@computed_region_dig5_f3vy</th>\n",
       "      <th>date_of_birth</th>\n",
       "    </tr>\n",
       "  </thead>\n",
       "  <tbody>\n",
       "    <tr>\n",
       "      <td>0</td>\n",
       "      <td>SKY</td>\n",
       "      <td>DOG</td>\n",
       "      <td>GERM SHEPHERD</td>\n",
       "      <td>BLACK/TAN</td>\n",
       "      <td>Female</td>\n",
       "      <td>MED</td>\n",
       "      <td>K20-035118</td>\n",
       "      <td>DS69</td>\n",
       "      <td>A395686</td>\n",
       "      <td>2020-01-19T00:00:00.000</td>\n",
       "      <td>...</td>\n",
       "      <td>OVER THE COUNTER_CALL</td>\n",
       "      <td>HEALTHY</td>\n",
       "      <td>HEALTHY</td>\n",
       "      <td>COUNTY</td>\n",
       "      <td>COUNTY</td>\n",
       "      <td>95404.0</td>\n",
       "      <td>{'latitude': '38.458384', 'longitude': '-122.6...</td>\n",
       "      <td>1</td>\n",
       "      <td>26080.0</td>\n",
       "      <td>NaN</td>\n",
       "    </tr>\n",
       "    <tr>\n",
       "      <td>1</td>\n",
       "      <td>COCO</td>\n",
       "      <td>DOG</td>\n",
       "      <td>BEAGLE</td>\n",
       "      <td>TRICOLOR</td>\n",
       "      <td>Neutered</td>\n",
       "      <td>SMALL</td>\n",
       "      <td>K17-025093</td>\n",
       "      <td>DS83</td>\n",
       "      <td>A379968</td>\n",
       "      <td>2017-08-30T00:00:00.000</td>\n",
       "      <td>...</td>\n",
       "      <td>NC AN FRND</td>\n",
       "      <td>UNKNOWN</td>\n",
       "      <td>HEALTHY</td>\n",
       "      <td>SANTA ROSA</td>\n",
       "      <td>OUT OF COUNTY</td>\n",
       "      <td>95758.0</td>\n",
       "      <td>{'latitude': '38.424655', 'longitude': '-121.4...</td>\n",
       "      <td>1</td>\n",
       "      <td>12873.0</td>\n",
       "      <td>2015-04-06T00:00:00.000</td>\n",
       "    </tr>\n",
       "    <tr>\n",
       "      <td>2</td>\n",
       "      <td>SUZIE</td>\n",
       "      <td>DOG</td>\n",
       "      <td>LABRADOR RETR/MIX</td>\n",
       "      <td>BLACK</td>\n",
       "      <td>Spayed</td>\n",
       "      <td>LARGE</td>\n",
       "      <td>K15-012348</td>\n",
       "      <td>DA34</td>\n",
       "      <td>A315553</td>\n",
       "      <td>2015-01-07T00:00:00.000</td>\n",
       "      <td>...</td>\n",
       "      <td>INTERNET</td>\n",
       "      <td>HEALTHY</td>\n",
       "      <td>HEALTHY</td>\n",
       "      <td>SANTA ROSA</td>\n",
       "      <td>SANTA ROSA</td>\n",
       "      <td>95404.0</td>\n",
       "      <td>{'latitude': '38.458384', 'longitude': '-122.6...</td>\n",
       "      <td>1</td>\n",
       "      <td>26080.0</td>\n",
       "      <td>2011-01-23T00:00:00.000</td>\n",
       "    </tr>\n",
       "    <tr>\n",
       "      <td>3</td>\n",
       "      <td>BUBBLES</td>\n",
       "      <td>DOG</td>\n",
       "      <td>FOX TERR SMOOTH/MIX</td>\n",
       "      <td>TAN</td>\n",
       "      <td>Male</td>\n",
       "      <td>SMALL</td>\n",
       "      <td>K20-035635</td>\n",
       "      <td>DS52</td>\n",
       "      <td>A363110</td>\n",
       "      <td>2020-03-20T00:00:00.000</td>\n",
       "      <td>...</td>\n",
       "      <td>DOGMA</td>\n",
       "      <td>UNKNOWN</td>\n",
       "      <td>PENDING</td>\n",
       "      <td>WINDSOR</td>\n",
       "      <td>COUNTY</td>\n",
       "      <td>95462.0</td>\n",
       "      <td>{'latitude': '38.468829', 'longitude': '-123.0...</td>\n",
       "      <td>1</td>\n",
       "      <td>31029.0</td>\n",
       "      <td>2017-04-28T00:00:00.000</td>\n",
       "    </tr>\n",
       "    <tr>\n",
       "      <td>4</td>\n",
       "      <td>FELIX</td>\n",
       "      <td>CAT</td>\n",
       "      <td>DOMESTIC SH</td>\n",
       "      <td>BLACK</td>\n",
       "      <td>Neutered</td>\n",
       "      <td>KITTN</td>\n",
       "      <td>K18-029084</td>\n",
       "      <td>LOBBY</td>\n",
       "      <td>A374683</td>\n",
       "      <td>2018-07-12T00:00:00.000</td>\n",
       "      <td>...</td>\n",
       "      <td>WALKIN</td>\n",
       "      <td>HEALTHY</td>\n",
       "      <td>HEALTHY</td>\n",
       "      <td>SANTA ROSA</td>\n",
       "      <td>COUNTY</td>\n",
       "      <td>95407.0</td>\n",
       "      <td>{'latitude': '38.403734', 'longitude': '-122.7...</td>\n",
       "      <td>1</td>\n",
       "      <td>26079.0</td>\n",
       "      <td>2018-05-12T00:00:00.000</td>\n",
       "    </tr>\n",
       "  </tbody>\n",
       "</table>\n",
       "<p>5 rows × 25 columns</p>\n",
       "</div>"
      ],
      "text/plain": [
       "      name type                breed      color       sex   size  \\\n",
       "0      SKY  DOG        GERM SHEPHERD  BLACK/TAN    Female    MED   \n",
       "1     COCO  DOG               BEAGLE   TRICOLOR  Neutered  SMALL   \n",
       "2    SUZIE  DOG    LABRADOR RETR/MIX      BLACK    Spayed  LARGE   \n",
       "3  BUBBLES  DOG  FOX TERR SMOOTH/MIX        TAN      Male  SMALL   \n",
       "4    FELIX  CAT          DOMESTIC SH      BLACK  Neutered  KITTN   \n",
       "\n",
       "  impound_number kennel_number       id              intake_date  ...  \\\n",
       "0     K20-035118          DS69  A395686  2020-01-19T00:00:00.000  ...   \n",
       "1     K17-025093          DS83  A379968  2017-08-30T00:00:00.000  ...   \n",
       "2     K15-012348          DA34  A315553  2015-01-07T00:00:00.000  ...   \n",
       "3     K20-035635          DS52  A363110  2020-03-20T00:00:00.000  ...   \n",
       "4     K18-029084         LOBBY  A374683  2018-07-12T00:00:00.000  ...   \n",
       "\n",
       "         outcome_subtype  intake_condition outcome_condition  \\\n",
       "0  OVER THE COUNTER_CALL           HEALTHY           HEALTHY   \n",
       "1             NC AN FRND           UNKNOWN           HEALTHY   \n",
       "2               INTERNET           HEALTHY           HEALTHY   \n",
       "3                  DOGMA           UNKNOWN           PENDING   \n",
       "4                 WALKIN           HEALTHY           HEALTHY   \n",
       "\n",
       "  intake_jurisdiction outcome_jurisdiction zip_code  \\\n",
       "0              COUNTY               COUNTY  95404.0   \n",
       "1          SANTA ROSA        OUT OF COUNTY  95758.0   \n",
       "2          SANTA ROSA           SANTA ROSA  95404.0   \n",
       "3             WINDSOR               COUNTY  95462.0   \n",
       "4          SANTA ROSA               COUNTY  95407.0   \n",
       "\n",
       "                                            location intake_total  \\\n",
       "0  {'latitude': '38.458384', 'longitude': '-122.6...            1   \n",
       "1  {'latitude': '38.424655', 'longitude': '-121.4...            1   \n",
       "2  {'latitude': '38.458384', 'longitude': '-122.6...            1   \n",
       "3  {'latitude': '38.468829', 'longitude': '-123.0...            1   \n",
       "4  {'latitude': '38.403734', 'longitude': '-122.7...            1   \n",
       "\n",
       "  :@computed_region_dig5_f3vy            date_of_birth  \n",
       "0                     26080.0                      NaN  \n",
       "1                     12873.0  2015-04-06T00:00:00.000  \n",
       "2                     26080.0  2011-01-23T00:00:00.000  \n",
       "3                     31029.0  2017-04-28T00:00:00.000  \n",
       "4                     26079.0  2018-05-12T00:00:00.000  \n",
       "\n",
       "[5 rows x 25 columns]"
      ]
     },
     "execution_count": 29,
     "metadata": {},
     "output_type": "execute_result"
    }
   ],
   "source": [
    "df_api.head()"
   ]
  },
  {
   "cell_type": "code",
   "execution_count": 30,
   "metadata": {},
   "outputs": [
    {
     "data": {
      "text/plain": [
       "(1000, 25)"
      ]
     },
     "execution_count": 30,
     "metadata": {},
     "output_type": "execute_result"
    }
   ],
   "source": [
    "df_api.shape"
   ]
  },
  {
   "cell_type": "code",
   "execution_count": 31,
   "metadata": {},
   "outputs": [],
   "source": [
    "df_api.drop('outcome_jurisdiction', axis=1, inplace=True)   # Dropping columns that are not needed.\n",
    "df_api.drop('intake_jurisdiction', axis=1, inplace=True)\n",
    "df_api.drop(':@computed_region_dig5_f3vy', axis=1, inplace=True)\n",
    "df_api.drop('outcome_subtype', axis=1, inplace=True)\n",
    "df_api.drop('zip_code', axis=1, inplace=True)\n",
    "df_api.drop('size', axis=1, inplace=True)\n",
    "df_api.drop('impound_number', axis=1, inplace=True)\n",
    "df_api.drop('location', axis=1, inplace=True)\n",
    "df_api.drop('name', axis=1, inplace=True)\n",
    "df_api.drop('intake_subtype', axis=1, inplace=True)"
   ]
  },
  {
   "cell_type": "code",
   "execution_count": 32,
   "metadata": {},
   "outputs": [
    {
     "name": "stdout",
     "output_type": "stream",
     "text": [
      "type                   0\n",
      "breed                  0\n",
      "color                  0\n",
      "sex                    0\n",
      "kennel_number          2\n",
      "id                     0\n",
      "intake_date            0\n",
      "outcome_date           7\n",
      "days_in_shelter        0\n",
      "intake_type            0\n",
      "outcome_type           7\n",
      "intake_condition       0\n",
      "outcome_condition     35\n",
      "intake_total           0\n",
      "date_of_birth        245\n",
      "dtype: int64\n"
     ]
    }
   ],
   "source": [
    "print(df_api.isnull().sum())           #checking number of null values in dataset   \n"
   ]
  },
  {
   "cell_type": "code",
   "execution_count": 33,
   "metadata": {},
   "outputs": [],
   "source": [
    "df_api=df_api.dropna(axis=0)        # dropping null values         "
   ]
  },
  {
   "cell_type": "code",
   "execution_count": 34,
   "metadata": {},
   "outputs": [
    {
     "name": "stdout",
     "output_type": "stream",
     "text": [
      "type                 0\n",
      "breed                0\n",
      "color                0\n",
      "sex                  0\n",
      "kennel_number        0\n",
      "id                   0\n",
      "intake_date          0\n",
      "outcome_date         0\n",
      "days_in_shelter      0\n",
      "intake_type          0\n",
      "outcome_type         0\n",
      "intake_condition     0\n",
      "outcome_condition    0\n",
      "intake_total         0\n",
      "date_of_birth        0\n",
      "dtype: int64\n"
     ]
    }
   ],
   "source": [
    "print(df_api.isnull().sum())        # ensuring null values are removed"
   ]
  },
  {
   "cell_type": "code",
   "execution_count": 35,
   "metadata": {},
   "outputs": [
    {
     "name": "stdout",
     "output_type": "stream",
     "text": [
      "number of duplicate rows: (0, 15)\n"
     ]
    }
   ],
   "source": [
    "df_api = df_api.drop_duplicates()                                        # dropping duplicate rows\n",
    "duplicate_rows = df_api[df_api.duplicated()]                            \n",
    "print(\"number of duplicate rows:\", duplicate_rows.shape)"
   ]
  },
  {
   "cell_type": "code",
   "execution_count": 36,
   "metadata": {},
   "outputs": [],
   "source": [
    "df_api.rename(columns = {'id':'Animal Id'}, inplace = True)              # formatting column names\n",
    "df_api.rename(columns = {'type':'Animal Type'}, inplace = True)\n",
    "df_api.rename(columns = {'breed':'Animal Breed'}, inplace = True)   \n",
    "df_api.rename(columns = {'intake_date':'Intake Date'}, inplace = True)\n",
    "df_api.rename(columns = {'id':'Animal Id'}, inplace = True)   \n",
    "df_api.rename(columns = {'outcome_date':'Outcome Date'}, inplace = True)  \n",
    "df_api.rename(columns = {'outcome_type':'Outcome Type'}, inplace = True)\n",
    "df_api.rename(columns = {'kennel_number':'Kennel Number'}, inplace = True)\n",
    "df_api.rename(columns = {'name':'Name'}, inplace = True)\n",
    "df_api.rename(columns = {'color':'Color'}, inplace = True)\n",
    "df_api.rename(columns = {'sex':'Sex'}, inplace = True)\n",
    "df_api.rename(columns = {'location':'Location'}, inplace = True)\n",
    "df_api.rename(columns = {'date_of_birth':'Birthdate'}, inplace = True)\n",
    "df_api.rename(columns = {'days_in_shelter':'Days in Shelter'}, inplace = True)\n",
    "df_api.rename(columns = {'intake_condition':'Intake Condition'}, inplace = True)\n",
    "df_api.rename(columns = {'outcome_condition':'Outcome Condition'}, inplace = True)\n",
    "df_api.rename(columns = {'intake_total':'Intake Total'}, inplace = True)\n",
    "df_api.rename(columns = {'intake_type':'Intake Type'}, inplace = True)"
   ]
  },
  {
   "cell_type": "code",
   "execution_count": null,
   "metadata": {},
   "outputs": [],
   "source": []
  },
  {
   "cell_type": "code",
   "execution_count": 37,
   "metadata": {},
   "outputs": [
    {
     "data": {
      "text/html": [
       "<div>\n",
       "<style scoped>\n",
       "    .dataframe tbody tr th:only-of-type {\n",
       "        vertical-align: middle;\n",
       "    }\n",
       "\n",
       "    .dataframe tbody tr th {\n",
       "        vertical-align: top;\n",
       "    }\n",
       "\n",
       "    .dataframe thead th {\n",
       "        text-align: right;\n",
       "    }\n",
       "</style>\n",
       "<table border=\"1\" class=\"dataframe\">\n",
       "  <thead>\n",
       "    <tr style=\"text-align: right;\">\n",
       "      <th></th>\n",
       "      <th>Days in Shelter</th>\n",
       "      <th>Intake Total</th>\n",
       "    </tr>\n",
       "  </thead>\n",
       "  <tbody>\n",
       "    <tr>\n",
       "      <td>count</td>\n",
       "      <td>741.000000</td>\n",
       "      <td>741.000000</td>\n",
       "    </tr>\n",
       "    <tr>\n",
       "      <td>mean</td>\n",
       "      <td>20.546559</td>\n",
       "      <td>0.991903</td>\n",
       "    </tr>\n",
       "    <tr>\n",
       "      <td>std</td>\n",
       "      <td>58.151824</td>\n",
       "      <td>0.089680</td>\n",
       "    </tr>\n",
       "    <tr>\n",
       "      <td>min</td>\n",
       "      <td>0.000000</td>\n",
       "      <td>0.000000</td>\n",
       "    </tr>\n",
       "    <tr>\n",
       "      <td>25%</td>\n",
       "      <td>2.000000</td>\n",
       "      <td>1.000000</td>\n",
       "    </tr>\n",
       "    <tr>\n",
       "      <td>50%</td>\n",
       "      <td>10.000000</td>\n",
       "      <td>1.000000</td>\n",
       "    </tr>\n",
       "    <tr>\n",
       "      <td>75%</td>\n",
       "      <td>23.000000</td>\n",
       "      <td>1.000000</td>\n",
       "    </tr>\n",
       "    <tr>\n",
       "      <td>max</td>\n",
       "      <td>891.000000</td>\n",
       "      <td>1.000000</td>\n",
       "    </tr>\n",
       "  </tbody>\n",
       "</table>\n",
       "</div>"
      ],
      "text/plain": [
       "       Days in Shelter  Intake Total\n",
       "count       741.000000    741.000000\n",
       "mean         20.546559      0.991903\n",
       "std          58.151824      0.089680\n",
       "min           0.000000      0.000000\n",
       "25%           2.000000      1.000000\n",
       "50%          10.000000      1.000000\n",
       "75%          23.000000      1.000000\n",
       "max         891.000000      1.000000"
      ]
     },
     "execution_count": 37,
     "metadata": {},
     "output_type": "execute_result"
    }
   ],
   "source": [
    "df_api.describe()      # spread looks ok, majority of data is non numerical and the numerical values don't show"
   ]
  },
  {
   "cell_type": "code",
   "execution_count": null,
   "metadata": {},
   "outputs": [],
   "source": [
    "\n"
   ]
  },
  {
   "cell_type": "code",
   "execution_count": 38,
   "metadata": {},
   "outputs": [
    {
     "data": {
      "text/plain": [
       "Animal Type          object\n",
       "Animal Breed         object\n",
       "Color                object\n",
       "Sex                  object\n",
       "Kennel Number        object\n",
       "Animal Id            object\n",
       "Intake Date          object\n",
       "Outcome Date         object\n",
       "Days in Shelter       int64\n",
       "Intake Type          object\n",
       "Outcome Type         object\n",
       "Intake Condition     object\n",
       "Outcome Condition    object\n",
       "Intake Total          int64\n",
       "Birthdate            object\n",
       "dtype: object"
      ]
     },
     "execution_count": 38,
     "metadata": {},
     "output_type": "execute_result"
    }
   ],
   "source": [
    "df_api.dtypes   "
   ]
  },
  {
   "cell_type": "code",
   "execution_count": 39,
   "metadata": {},
   "outputs": [
    {
     "name": "stderr",
     "output_type": "stream",
     "text": [
      "C:\\Users\\EF\\Anaconda3\\lib\\site-packages\\ipykernel_launcher.py:3: FutureWarning: Sorting because non-concatenation axis is not aligned. A future version\n",
      "of pandas will change to not sort by default.\n",
      "\n",
      "To accept the future behavior, pass 'sort=False'.\n",
      "\n",
      "To retain the current behavior and silence the warning, pass 'sort=True'.\n",
      "\n",
      "  This is separate from the ipykernel package so we can avoid doing imports until\n"
     ]
    }
   ],
   "source": [
    "# merging all three datasets\n",
    "\n",
    "df_final = pd.concat([df_api, df_webpage, df_csv], ignore_index= True)"
   ]
  },
  {
   "cell_type": "code",
   "execution_count": 40,
   "metadata": {},
   "outputs": [],
   "source": [
    "df_final = df_final.replace('male', 'Male')          # touching up some inconsistent characters\n",
    "df_final = df_final.replace('female', 'Female')\n",
    "df_final = df_final.replace('Spayed', 'Female')\n",
    "df_final = df_final.replace('Neutered', 'Male')\n",
    "df_final = df_final.replace('DOG', 'Dog')\n",
    "df_final = df_final.replace('CAT', 'Cat')\n",
    "df_final = df_final.replace('OTHER', 'Other')\n",
    "df_final = df_final.replace('Intake Year', 'Year')\n",
    "df_final = df_final.replace('FY2020', '2020')\n",
    "df_final = df_final.replace('Intact Female', 'Female')\n",
    "df_final = df_final.replace('Intact Male', 'Male')\n",
    "df_final = df_final.replace('Neutered Male', 'Male')\n",
    "df_final = df_final.replace('Spayed Female', 'Female')\n",
    "\n"
   ]
  },
  {
   "cell_type": "code",
   "execution_count": 41,
   "metadata": {},
   "outputs": [
    {
     "data": {
      "text/plain": [
       "Activity Sequence            float64\n",
       "Animal Breed                  object\n",
       "Animal Id                     object\n",
       "Animal Origin                 object\n",
       "Animal Type                   object\n",
       "Birthdate                     object\n",
       "Census Tract                 float64\n",
       "Chip Status                   object\n",
       "Color                         object\n",
       "Council District             float64\n",
       "Count                        float64\n",
       "Days in Shelter              float64\n",
       "Due Out                       object\n",
       "Impound Number                object\n",
       "Intake Age(years)            float64\n",
       "Intake Condition              object\n",
       "Intake Date                   object\n",
       "Intake Hour                  float64\n",
       "Intake Month                 float64\n",
       "Intake Number                float64\n",
       "Intake Subtype                object\n",
       "Intake Total                 float64\n",
       "Intake Type                   object\n",
       "Intake_Hour                   object\n",
       "Kennel Number                 object\n",
       "Kennel Status                 object\n",
       "Month                         object\n",
       "Outcome Age(days)            float64\n",
       "Outcome Age(years)           float64\n",
       "Outcome Condition             object\n",
       "Outcome Date                  object\n",
       "Outcome Subtype               object\n",
       "Outcome Time                  object\n",
       "Outcome Type                  object\n",
       "Sex                           object\n",
       "Source Id                     object\n",
       "Staff Id                      object\n",
       "Surrender Reason              object\n",
       "Time in Shelter(days)        float64\n",
       "Year                          object\n",
       "age_upon_intake               object\n",
       "age_upon_intake_age_group     object\n",
       "age_upon_outcome              object\n",
       "animal_id_intake              object\n",
       "date_of_birth                 object\n",
       "found_location                object\n",
       "intake_condition              object\n",
       "intake_datetime               object\n",
       "intake_monthyear              object\n",
       "intake_weekday                object\n",
       "outcome_datetime              object\n",
       "outcome_type                  object\n",
       "time_in_shelter               object\n",
       "dtype: object"
      ]
     },
     "execution_count": 41,
     "metadata": {},
     "output_type": "execute_result"
    }
   ],
   "source": [
    "df_final.dtypes"
   ]
  },
  {
   "cell_type": "code",
   "execution_count": 42,
   "metadata": {},
   "outputs": [
    {
     "name": "stdout",
     "output_type": "stream",
     "text": [
      "2020-05-25 19:36:35,149 INFO sqlalchemy.engine.base.Engine SELECT CAST('test plain returns' AS VARCHAR(60)) AS anon_1\n",
      "2020-05-25 19:36:35,159 INFO sqlalchemy.engine.base.Engine ()\n",
      "2020-05-25 19:36:35,159 INFO sqlalchemy.engine.base.Engine SELECT CAST('test unicode returns' AS VARCHAR(60)) AS anon_1\n",
      "2020-05-25 19:36:35,169 INFO sqlalchemy.engine.base.Engine ()\n"
     ]
    }
   ],
   "source": [
    "engine = create_engine('sqlite:///DSC540.db', echo=True)           # create sql engine and connection\n",
    "sqlite_connection = engine.connect()"
   ]
  },
  {
   "cell_type": "code",
   "execution_count": 43,
   "metadata": {},
   "outputs": [
    {
     "name": "stdout",
     "output_type": "stream",
     "text": [
      "2020-05-25 19:36:39,063 INFO sqlalchemy.engine.base.Engine PRAGMA main.table_info(\"shelter data\")\n",
      "2020-05-25 19:36:39,063 INFO sqlalchemy.engine.base.Engine ()\n",
      "2020-05-25 19:36:39,076 INFO sqlalchemy.engine.base.Engine PRAGMA temp.table_info(\"shelter data\")\n",
      "2020-05-25 19:36:39,076 INFO sqlalchemy.engine.base.Engine ()\n",
      "2020-05-25 19:36:39,137 INFO sqlalchemy.engine.base.Engine \n",
      "CREATE TABLE \"shelter data\" (\n",
      "\t\"index\" BIGINT, \n",
      "\t\"Activity Sequence\" FLOAT, \n",
      "\t\"Animal Breed\" TEXT, \n",
      "\t\"Animal Id\" TEXT, \n",
      "\t\"Animal Origin\" TEXT, \n",
      "\t\"Animal Type\" TEXT, \n",
      "\t\"Birthdate\" TEXT, \n",
      "\t\"Census Tract\" FLOAT, \n",
      "\t\"Chip Status\" TEXT, \n",
      "\t\"Color\" TEXT, \n",
      "\t\"Council District\" FLOAT, \n",
      "\t\"Count\" FLOAT, \n",
      "\t\"Days in Shelter\" FLOAT, \n",
      "\t\"Due Out\" TEXT, \n",
      "\t\"Impound Number\" TEXT, \n",
      "\t\"Intake Age(years)\" FLOAT, \n",
      "\t\"Intake Condition\" TEXT, \n",
      "\t\"Intake Date\" TEXT, \n",
      "\t\"Intake Hour\" FLOAT, \n",
      "\t\"Intake Month\" FLOAT, \n",
      "\t\"Intake Number\" FLOAT, \n",
      "\t\"Intake Subtype\" TEXT, \n",
      "\t\"Intake Total\" FLOAT, \n",
      "\t\"Intake Type\" TEXT, \n",
      "\t\"Intake_Hour\" TEXT, \n",
      "\t\"Kennel Number\" TEXT, \n",
      "\t\"Kennel Status\" TEXT, \n",
      "\t\"Month\" TEXT, \n",
      "\t\"Outcome Age(days)\" FLOAT, \n",
      "\t\"Outcome Age(years)\" FLOAT, \n",
      "\t\"Outcome Condition\" TEXT, \n",
      "\t\"Outcome Date\" TEXT, \n",
      "\t\"Outcome Subtype\" TEXT, \n",
      "\t\"Outcome Time\" TEXT, \n",
      "\t\"Outcome Type\" TEXT, \n",
      "\t\"Sex\" TEXT, \n",
      "\t\"Source Id\" TEXT, \n",
      "\t\"Staff Id\" TEXT, \n",
      "\t\"Surrender Reason\" TEXT, \n",
      "\t\"Time in Shelter(days)\" FLOAT, \n",
      "\t\"Year\" TEXT, \n",
      "\tage_upon_intake TEXT, \n",
      "\tage_upon_intake_age_group TEXT, \n",
      "\tage_upon_outcome TEXT, \n",
      "\tanimal_id_intake TEXT, \n",
      "\tdate_of_birth TEXT, \n",
      "\tfound_location TEXT, \n",
      "\tintake_condition TEXT, \n",
      "\tintake_datetime TEXT, \n",
      "\tintake_monthyear TEXT, \n",
      "\tintake_weekday TEXT, \n",
      "\toutcome_datetime TEXT, \n",
      "\toutcome_type TEXT, \n",
      "\ttime_in_shelter TEXT\n",
      ")\n",
      "\n",
      "\n",
      "2020-05-25 19:36:39,137 INFO sqlalchemy.engine.base.Engine ()\n",
      "2020-05-25 19:36:39,176 INFO sqlalchemy.engine.base.Engine COMMIT\n",
      "2020-05-25 19:36:39,176 INFO sqlalchemy.engine.base.Engine CREATE INDEX \"ix_shelter data_index\" ON \"shelter data\" (\"index\")\n",
      "2020-05-25 19:36:39,189 INFO sqlalchemy.engine.base.Engine ()\n",
      "2020-05-25 19:36:39,211 INFO sqlalchemy.engine.base.Engine COMMIT\n",
      "2020-05-25 19:36:40,396 INFO sqlalchemy.engine.base.Engine BEGIN (implicit)\n",
      "2020-05-25 19:37:04,027 INFO sqlalchemy.engine.base.Engine INSERT INTO \"shelter data\" (\"index\", \"Activity Sequence\", \"Animal Breed\", \"Animal Id\", \"Animal Origin\", \"Animal Type\", \"Birthdate\", \"Census Tract\", \"Chip Status\", \"Color\", \"Council District\", \"Count\", \"Days in Shelter\", \"Due Out\", \"Impound Number\", \"Intake Age(years)\", \"Intake Condition\", \"Intake Date\", \"Intake Hour\", \"Intake Month\", \"Intake Number\", \"Intake Subtype\", \"Intake Total\", \"Intake Type\", \"Intake_Hour\", \"Kennel Number\", \"Kennel Status\", \"Month\", \"Outcome Age(days)\", \"Outcome Age(years)\", \"Outcome Condition\", \"Outcome Date\", \"Outcome Subtype\", \"Outcome Time\", \"Outcome Type\", \"Sex\", \"Source Id\", \"Staff Id\", \"Surrender Reason\", \"Time in Shelter(days)\", \"Year\", age_upon_intake, age_upon_intake_age_group, age_upon_outcome, animal_id_intake, date_of_birth, found_location, intake_condition, intake_datetime, intake_monthyear, intake_weekday, outcome_datetime, outcome_type, time_in_shelter) VALUES (?, ?, ?, ?, ?, ?, ?, ?, ?, ?, ?, ?, ?, ?, ?, ?, ?, ?, ?, ?, ?, ?, ?, ?, ?, ?, ?, ?, ?, ?, ?, ?, ?, ?, ?, ?, ?, ?, ?, ?, ?, ?, ?, ?, ?, ?, ?, ?, ?, ?, ?, ?, ?, ?)\n",
      "2020-05-25 19:37:04,027 INFO sqlalchemy.engine.base.Engine ((0, None, 'BEAGLE', 'A379968', None, 'Dog', '2015-04-06T00:00:00.000', None, None, 'TRICOLOR', None, None, 35.0, None, None, None, 'UNKNOWN', '2017-08-30T00:00:00.000', None, None, None, None, 1.0, 'STRAY', None, 'DS83', None, None, None, None, 'HEALTHY', '2017-10-04T00:00:00.000', None, None, 'TRANSFER', 'Male', None, None, None, None, None, None, None, None, None, None, None, None, None, None, None, None, None, None), (1, None, 'LABRADOR RETR/MIX', 'A315553', None, 'Dog', '2011-01-23T00:00:00.000', None, None, 'BLACK', None, None, 17.0, None, None, None, 'HEALTHY', '2015-01-07T00:00:00.000', None, None, None, None, 1.0, 'STRAY', None, 'DA34', None, None, None, None, 'HEALTHY', '2015-01-24T00:00:00.000', None, None, 'ADOPTION', 'Female', None, None, None, None, None, None, None, None, None, None, None, None, None, None, None, None, None, None), (2, None, 'FOX TERR SMOOTH/MIX', 'A363110', None, 'Dog', '2017-04-28T00:00:00.000', None, None, 'TAN', None, None, 0.0, None, None, None, 'UNKNOWN', '2020-03-20T00:00:00.000', None, None, None, None, 1.0, 'OWNER SURRENDER', None, 'DS52', None, None, None, None, 'PENDING', '2020-03-20T00:00:00.000', None, None, 'TRANSFER', 'Male', None, None, None, None, None, None, None, None, None, None, None, None, None, None, None, None, None, None), (3, None, 'DOMESTIC SH', 'A374683', None, 'Cat', '2018-05-12T00:00:00.000', None, None, 'BLACK', None, None, 23.0, None, None, None, 'HEALTHY', '2018-07-12T00:00:00.000', None, None, None, None, 1.0, 'STRAY', None, 'LOBBY', None, None, None, None, 'HEALTHY', '2018-08-04T00:00:00.000', None, None, 'ADOPTION', 'Male', None, None, None, None, None, None, None, None, None, None, None, None, None, None, None, None, None, None), (4, None, 'GERM SHEPHERD', 'A395721', None, 'Dog', '2017-01-22T00:00:00.000', None, None, 'BROWN/BLACK', None, None, 1.0, None, None, None, 'HEALTHY', '2020-01-22T00:00:00.000', None, None, None, None, 1.0, 'STRAY', None, 'DS63', None, None, None, None, 'HEALTHY', '2020-01-23T00:00:00.000', None, None, 'RETURN TO OWNER', 'Male', None, None, None, None, None, None, None, None, None, None, None, None, None, None, None, None, None, None), (5, None, 'DOMESTIC SH', 'A395624', None, 'Cat', '2017-01-16T00:00:00.000', None, None, 'GRAY TABBY', None, None, 6.0, None, None, None, 'UNKNOWN', '2020-01-16T00:00:00.000', None, None, None, None, 1.0, 'STRAY', None, 'CS06', None, None, None, None, 'PENDING', '2020-01-22T00:00:00.000', None, None, 'RETURN TO OWNER', 'Male', None, None, None, None, None, None, None, None, None, None, None, None, None, None, None, None, None, None), (6, None, 'RABBIT SH', 'A396579', None, 'Other', '2018-03-06T00:00:00.000', None, None, 'WHITE', None, None, 15.0, None, None, None, 'UNKNOWN', '2020-03-05T00:00:00.000', None, None, None, None, 1.0, 'STRAY', None, 'CS06', None, None, None, None, 'UNTREATABLE', '2020-03-20T00:00:00.000', None, None, 'EUTHANIZE', 'Female', None, None, None, None, None, None, None, None, None, None, None, None, None, None, None, None, None, None), (7, None, 'PIT BULL', 'A386757', None, 'Dog', '2018-12-27T00:00:00.000', None, None, 'TAN/WHITE', None, None, 7.0, None, None, None, 'HEALTHY', '2020-03-13T00:00:00.000', None, None, None, None, 1.0, 'CONFISCATE', None, 'DS82', None, None, None, None, 'HEALTHY', '2020-03-20T00:00:00.000', None, None, 'RETURN TO OWNER', 'Male', None, None, None, None, None, None, None, None, None, None, None, None, None, None, None, None, None, None)  ... displaying 10 of 80375 total bound parameter sets ...  (80373, None, 'Labrador Retriever Mix', 'A769066', None, 'Dog', '2018-03', None, None, 'Black/White', None, 1.0, None, None, None, 0.41095890399999996, None, None, 18.0, 3.0, 1.0, None, None, 'Stray', None, None, None, None, 300.0, 0.8219178079999999, None, '2018-03', None, None, None, 'Male', None, None, None, 1.7625, 2018, '5 months', '(-0.025, 2.5]', '10 months', 'A769066', '5/1/2017 0:00', '12034 Research Blvd Sb in Austin (TX)', 'Normal', '3/29/2018 18:19', '2018-03', 'Thursday', '3/31/2018 12:37', 'Return to Owner', '1 days 18:18:00.000000000'), (80374, None, 'Boxer Mix', 'A769067', None, 'Dog', '2018-03', None, None, 'Brown Brindle', None, 1.0, None, None, None, 10.0, None, None, 18.0, 3.0, 1.0, None, None, 'Stray', None, None, None, None, 3650.0, 10.0, None, '2018-03', None, None, None, 'Female', None, None, None, 0.813888889, 2018, '10 years', '(7.5, 10.0]', '10 years', 'A769067', '3/29/2008 0:00', '11216 Jollyville Rd 216 in Austin (TX)', 'Aged', '3/29/2018 18:20', '2018-03', 'Thursday', '3/30/2018 13:52', 'Euthanasia', '0 days 19:32:00.000000000'))\n",
      "2020-05-25 19:37:20,822 INFO sqlalchemy.engine.base.Engine COMMIT\n"
     ]
    }
   ],
   "source": [
    "sqlite_table = \"shelter data\"                                 # creating table of my data set in sql.\n",
    "df_final.to_sql(sqlite_table, sqlite_connection, if_exists='fail')"
   ]
  },
  {
   "cell_type": "code",
   "execution_count": 44,
   "metadata": {},
   "outputs": [
    {
     "name": "stdout",
     "output_type": "stream",
     "text": [
      "2020-05-25 19:37:22,635 INFO sqlalchemy.engine.base.Engine SELECT name FROM sqlite_master WHERE type='table' ORDER BY name\n",
      "2020-05-25 19:37:22,642 INFO sqlalchemy.engine.base.Engine ()\n",
      "2020-05-25 19:37:22,667 INFO sqlalchemy.engine.base.Engine SELECT name FROM sqlite_master WHERE type='view' ORDER BY name\n",
      "2020-05-25 19:37:22,674 INFO sqlalchemy.engine.base.Engine ()\n",
      "2020-05-25 19:37:22,715 INFO sqlalchemy.engine.base.Engine PRAGMA main.table_info(\"shelter data\")\n",
      "2020-05-25 19:37:22,755 INFO sqlalchemy.engine.base.Engine ()\n",
      "2020-05-25 19:37:22,871 INFO sqlalchemy.engine.base.Engine SELECT sql FROM  (SELECT * FROM sqlite_master UNION ALL   SELECT * FROM sqlite_temp_master) WHERE name = 'shelter data' AND type = 'table'\n",
      "2020-05-25 19:37:22,879 INFO sqlalchemy.engine.base.Engine ()\n",
      "2020-05-25 19:37:22,893 INFO sqlalchemy.engine.base.Engine PRAGMA main.foreign_key_list(\"shelter data\")\n",
      "2020-05-25 19:37:22,898 INFO sqlalchemy.engine.base.Engine ()\n",
      "2020-05-25 19:37:22,903 INFO sqlalchemy.engine.base.Engine PRAGMA temp.foreign_key_list(\"shelter data\")\n",
      "2020-05-25 19:37:22,906 INFO sqlalchemy.engine.base.Engine ()\n",
      "2020-05-25 19:37:22,930 INFO sqlalchemy.engine.base.Engine SELECT sql FROM  (SELECT * FROM sqlite_master UNION ALL   SELECT * FROM sqlite_temp_master) WHERE name = 'shelter data' AND type = 'table'\n",
      "2020-05-25 19:37:22,942 INFO sqlalchemy.engine.base.Engine ()\n",
      "2020-05-25 19:37:22,975 INFO sqlalchemy.engine.base.Engine PRAGMA main.index_list(\"shelter data\")\n",
      "2020-05-25 19:37:22,984 INFO sqlalchemy.engine.base.Engine ()\n",
      "2020-05-25 19:37:22,993 INFO sqlalchemy.engine.base.Engine PRAGMA main.index_info(\"ix_shelter data_index\")\n",
      "2020-05-25 19:37:22,999 INFO sqlalchemy.engine.base.Engine ()\n",
      "2020-05-25 19:37:23,009 INFO sqlalchemy.engine.base.Engine PRAGMA main.index_list(\"shelter data\")\n",
      "2020-05-25 19:37:23,015 INFO sqlalchemy.engine.base.Engine ()\n",
      "2020-05-25 19:37:23,023 INFO sqlalchemy.engine.base.Engine PRAGMA main.index_info(\"ix_shelter data_index\")\n",
      "2020-05-25 19:37:23,031 INFO sqlalchemy.engine.base.Engine ()\n",
      "2020-05-25 19:37:23,038 INFO sqlalchemy.engine.base.Engine SELECT sql FROM  (SELECT * FROM sqlite_master UNION ALL   SELECT * FROM sqlite_temp_master) WHERE name = 'shelter data' AND type = 'table'\n",
      "2020-05-25 19:37:23,045 INFO sqlalchemy.engine.base.Engine ()\n",
      "2020-05-25 19:37:23,132 INFO sqlalchemy.engine.base.Engine SELECT \"shelter data\".\"index\", \"shelter data\".\"Activity Sequence\", \"shelter data\".\"Animal Breed\", \"shelter data\".\"Animal Id\", \"shelter data\".\"Animal Origin\", \"shelter data\".\"Animal Type\", \"shelter data\".\"Birthdate\", \"shelter data\".\"Census Tract\", \"shelter data\".\"Chip Status\", \"shelter data\".\"Color\", \"shelter data\".\"Council District\", \"shelter data\".\"Count\", \"shelter data\".\"Days in Shelter\", \"shelter data\".\"Due Out\", \"shelter data\".\"Impound Number\", \"shelter data\".\"Intake Age(years)\", \"shelter data\".\"Intake Condition\", \"shelter data\".\"Intake Date\", \"shelter data\".\"Intake Hour\", \"shelter data\".\"Intake Month\", \"shelter data\".\"Intake Number\", \"shelter data\".\"Intake Subtype\", \"shelter data\".\"Intake Total\", \"shelter data\".\"Intake Type\", \"shelter data\".\"Intake_Hour\", \"shelter data\".\"Kennel Number\", \"shelter data\".\"Kennel Status\", \"shelter data\".\"Month\", \"shelter data\".\"Outcome Age(days)\", \"shelter data\".\"Outcome Age(years)\", \"shelter data\".\"Outcome Condition\", \"shelter data\".\"Outcome Date\", \"shelter data\".\"Outcome Subtype\", \"shelter data\".\"Outcome Time\", \"shelter data\".\"Outcome Type\", \"shelter data\".\"Sex\", \"shelter data\".\"Source Id\", \"shelter data\".\"Staff Id\", \"shelter data\".\"Surrender Reason\", \"shelter data\".\"Time in Shelter(days)\", \"shelter data\".\"Year\", \"shelter data\".age_upon_intake, \"shelter data\".age_upon_intake_age_group, \"shelter data\".age_upon_outcome, \"shelter data\".animal_id_intake, \"shelter data\".date_of_birth, \"shelter data\".found_location, \"shelter data\".intake_condition, \"shelter data\".intake_datetime, \"shelter data\".intake_monthyear, \"shelter data\".intake_weekday, \"shelter data\".outcome_datetime, \"shelter data\".outcome_type, \"shelter data\".time_in_shelter \n",
      "FROM \"shelter data\"\n",
      "2020-05-25 19:37:23,137 INFO sqlalchemy.engine.base.Engine ()\n"
     ]
    }
   ],
   "source": [
    "sql_df = pd.read_sql_table(\"shelter data\",               # reading sql table from db in pandas\n",
    "                           con=engine)"
   ]
  },
  {
   "cell_type": "code",
   "execution_count": 45,
   "metadata": {},
   "outputs": [
    {
     "data": {
      "text/html": [
       "<div>\n",
       "<style scoped>\n",
       "    .dataframe tbody tr th:only-of-type {\n",
       "        vertical-align: middle;\n",
       "    }\n",
       "\n",
       "    .dataframe tbody tr th {\n",
       "        vertical-align: top;\n",
       "    }\n",
       "\n",
       "    .dataframe thead th {\n",
       "        text-align: right;\n",
       "    }\n",
       "</style>\n",
       "<table border=\"1\" class=\"dataframe\">\n",
       "  <thead>\n",
       "    <tr style=\"text-align: right;\">\n",
       "      <th></th>\n",
       "      <th>index</th>\n",
       "      <th>Activity Sequence</th>\n",
       "      <th>Animal Breed</th>\n",
       "      <th>Animal Id</th>\n",
       "      <th>Animal Origin</th>\n",
       "      <th>Animal Type</th>\n",
       "      <th>Birthdate</th>\n",
       "      <th>Census Tract</th>\n",
       "      <th>Chip Status</th>\n",
       "      <th>Color</th>\n",
       "      <th>...</th>\n",
       "      <th>animal_id_intake</th>\n",
       "      <th>date_of_birth</th>\n",
       "      <th>found_location</th>\n",
       "      <th>intake_condition</th>\n",
       "      <th>intake_datetime</th>\n",
       "      <th>intake_monthyear</th>\n",
       "      <th>intake_weekday</th>\n",
       "      <th>outcome_datetime</th>\n",
       "      <th>outcome_type</th>\n",
       "      <th>time_in_shelter</th>\n",
       "    </tr>\n",
       "  </thead>\n",
       "  <tbody>\n",
       "    <tr>\n",
       "      <td>0</td>\n",
       "      <td>0</td>\n",
       "      <td>NaN</td>\n",
       "      <td>BEAGLE</td>\n",
       "      <td>A379968</td>\n",
       "      <td>None</td>\n",
       "      <td>Dog</td>\n",
       "      <td>2015-04-06T00:00:00.000</td>\n",
       "      <td>NaN</td>\n",
       "      <td>None</td>\n",
       "      <td>TRICOLOR</td>\n",
       "      <td>...</td>\n",
       "      <td>None</td>\n",
       "      <td>None</td>\n",
       "      <td>None</td>\n",
       "      <td>None</td>\n",
       "      <td>None</td>\n",
       "      <td>None</td>\n",
       "      <td>None</td>\n",
       "      <td>None</td>\n",
       "      <td>None</td>\n",
       "      <td>None</td>\n",
       "    </tr>\n",
       "    <tr>\n",
       "      <td>1</td>\n",
       "      <td>1</td>\n",
       "      <td>NaN</td>\n",
       "      <td>LABRADOR RETR/MIX</td>\n",
       "      <td>A315553</td>\n",
       "      <td>None</td>\n",
       "      <td>Dog</td>\n",
       "      <td>2011-01-23T00:00:00.000</td>\n",
       "      <td>NaN</td>\n",
       "      <td>None</td>\n",
       "      <td>BLACK</td>\n",
       "      <td>...</td>\n",
       "      <td>None</td>\n",
       "      <td>None</td>\n",
       "      <td>None</td>\n",
       "      <td>None</td>\n",
       "      <td>None</td>\n",
       "      <td>None</td>\n",
       "      <td>None</td>\n",
       "      <td>None</td>\n",
       "      <td>None</td>\n",
       "      <td>None</td>\n",
       "    </tr>\n",
       "    <tr>\n",
       "      <td>2</td>\n",
       "      <td>2</td>\n",
       "      <td>NaN</td>\n",
       "      <td>FOX TERR SMOOTH/MIX</td>\n",
       "      <td>A363110</td>\n",
       "      <td>None</td>\n",
       "      <td>Dog</td>\n",
       "      <td>2017-04-28T00:00:00.000</td>\n",
       "      <td>NaN</td>\n",
       "      <td>None</td>\n",
       "      <td>TAN</td>\n",
       "      <td>...</td>\n",
       "      <td>None</td>\n",
       "      <td>None</td>\n",
       "      <td>None</td>\n",
       "      <td>None</td>\n",
       "      <td>None</td>\n",
       "      <td>None</td>\n",
       "      <td>None</td>\n",
       "      <td>None</td>\n",
       "      <td>None</td>\n",
       "      <td>None</td>\n",
       "    </tr>\n",
       "    <tr>\n",
       "      <td>3</td>\n",
       "      <td>3</td>\n",
       "      <td>NaN</td>\n",
       "      <td>DOMESTIC SH</td>\n",
       "      <td>A374683</td>\n",
       "      <td>None</td>\n",
       "      <td>Cat</td>\n",
       "      <td>2018-05-12T00:00:00.000</td>\n",
       "      <td>NaN</td>\n",
       "      <td>None</td>\n",
       "      <td>BLACK</td>\n",
       "      <td>...</td>\n",
       "      <td>None</td>\n",
       "      <td>None</td>\n",
       "      <td>None</td>\n",
       "      <td>None</td>\n",
       "      <td>None</td>\n",
       "      <td>None</td>\n",
       "      <td>None</td>\n",
       "      <td>None</td>\n",
       "      <td>None</td>\n",
       "      <td>None</td>\n",
       "    </tr>\n",
       "    <tr>\n",
       "      <td>4</td>\n",
       "      <td>4</td>\n",
       "      <td>NaN</td>\n",
       "      <td>GERM SHEPHERD</td>\n",
       "      <td>A395721</td>\n",
       "      <td>None</td>\n",
       "      <td>Dog</td>\n",
       "      <td>2017-01-22T00:00:00.000</td>\n",
       "      <td>NaN</td>\n",
       "      <td>None</td>\n",
       "      <td>BROWN/BLACK</td>\n",
       "      <td>...</td>\n",
       "      <td>None</td>\n",
       "      <td>None</td>\n",
       "      <td>None</td>\n",
       "      <td>None</td>\n",
       "      <td>None</td>\n",
       "      <td>None</td>\n",
       "      <td>None</td>\n",
       "      <td>None</td>\n",
       "      <td>None</td>\n",
       "      <td>None</td>\n",
       "    </tr>\n",
       "  </tbody>\n",
       "</table>\n",
       "<p>5 rows × 54 columns</p>\n",
       "</div>"
      ],
      "text/plain": [
       "   index  Activity Sequence         Animal Breed Animal Id Animal Origin  \\\n",
       "0      0                NaN               BEAGLE   A379968          None   \n",
       "1      1                NaN    LABRADOR RETR/MIX   A315553          None   \n",
       "2      2                NaN  FOX TERR SMOOTH/MIX   A363110          None   \n",
       "3      3                NaN          DOMESTIC SH   A374683          None   \n",
       "4      4                NaN        GERM SHEPHERD   A395721          None   \n",
       "\n",
       "  Animal Type                Birthdate  Census Tract Chip Status        Color  \\\n",
       "0         Dog  2015-04-06T00:00:00.000           NaN        None     TRICOLOR   \n",
       "1         Dog  2011-01-23T00:00:00.000           NaN        None        BLACK   \n",
       "2         Dog  2017-04-28T00:00:00.000           NaN        None          TAN   \n",
       "3         Cat  2018-05-12T00:00:00.000           NaN        None        BLACK   \n",
       "4         Dog  2017-01-22T00:00:00.000           NaN        None  BROWN/BLACK   \n",
       "\n",
       "   ...  animal_id_intake  date_of_birth  found_location intake_condition  \\\n",
       "0  ...              None           None            None             None   \n",
       "1  ...              None           None            None             None   \n",
       "2  ...              None           None            None             None   \n",
       "3  ...              None           None            None             None   \n",
       "4  ...              None           None            None             None   \n",
       "\n",
       "  intake_datetime  intake_monthyear intake_weekday outcome_datetime  \\\n",
       "0            None              None           None             None   \n",
       "1            None              None           None             None   \n",
       "2            None              None           None             None   \n",
       "3            None              None           None             None   \n",
       "4            None              None           None             None   \n",
       "\n",
       "   outcome_type  time_in_shelter  \n",
       "0          None             None  \n",
       "1          None             None  \n",
       "2          None             None  \n",
       "3          None             None  \n",
       "4          None             None  \n",
       "\n",
       "[5 rows x 54 columns]"
      ]
     },
     "execution_count": 45,
     "metadata": {},
     "output_type": "execute_result"
    }
   ],
   "source": [
    "sql_df.head()"
   ]
  },
  {
   "cell_type": "code",
   "execution_count": 46,
   "metadata": {},
   "outputs": [
    {
     "data": {
      "text/plain": [
       "<function matplotlib.pyplot.plot(*args, scalex=True, scaley=True, data=None, **kwargs)>"
      ]
     },
     "execution_count": 46,
     "metadata": {},
     "output_type": "execute_result"
    },
    {
     "data": {
      "image/png": "[encoded data removed]",
      "text/plain": [
       "<Figure size 432x288 with 1 Axes>"
      ]
     },
     "metadata": {
      "needs_background": "light"
     },
     "output_type": "display_data"
    }
   ],
   "source": [
    "# Histogram of gender\n",
    "\n",
    "status = sql_df['Sex']\n",
    "status.hist()\n",
    "plt.title('Gender')\n",
    "plt.xlabel('Gender')\n",
    "plt.ylabel('Count')\n",
    "plt.plot"
   ]
  },
  {
   "cell_type": "code",
   "execution_count": 47,
   "metadata": {},
   "outputs": [
    {
     "data": {
      "text/plain": [
       "<function matplotlib.pyplot.plot(*args, scalex=True, scaley=True, data=None, **kwargs)>"
      ]
     },
     "execution_count": 47,
     "metadata": {},
     "output_type": "execute_result"
    },
    {
     "data": {
      "image/png": "[encoded data removed]",
      "text/plain": [
       "<Figure size 432x288 with 1 Axes>"
      ]
     },
     "metadata": {
      "needs_background": "light"
     },
     "output_type": "display_data"
    }
   ],
   "source": [
    "sns.countplot(sql_df['Animal Type'])  # Graph of animal type\n",
    "plt.title('Animal Type')\n",
    "plt.plot"
   ]
  },
  {
   "cell_type": "code",
   "execution_count": 48,
   "metadata": {},
   "outputs": [
    {
     "data": {
      "text/plain": [
       "Text(0.5, 1.0, 'Chip Status')"
      ]
     },
     "execution_count": 48,
     "metadata": {},
     "output_type": "execute_result"
    },
    {
     "data": {
      "image/png": "[encoded data removed]",
      "text/plain": [
       "<Figure size 432x288 with 1 Axes>"
      ]
     },
     "metadata": {
      "needs_background": "light"
     },
     "output_type": "display_data"
    }
   ],
   "source": [
    "sns.countplot(sql_df['Chip Status'])# Graph of chip status\n",
    "plt.title('Chip Status')"
   ]
  },
  {
   "cell_type": "code",
   "execution_count": 49,
   "metadata": {},
   "outputs": [
    {
     "data": {
      "text/plain": [
       "Text(0.5, 1.0, 'Total count by Year')"
      ]
     },
     "execution_count": 49,
     "metadata": {},
     "output_type": "execute_result"
    },
    {
     "data": {
      "image/png": "[encoded data removed]",
      "text/plain": [
       "<Figure size 432x288 with 1 Axes>"
      ]
     },
     "metadata": {
      "needs_background": "light"
     },
     "output_type": "display_data"
    }
   ],
   "source": [
    "sns.countplot(sql_df['Year'])# Graph of total count by year\n",
    "plt.title('Total count by Year')"
   ]
  },
  {
   "cell_type": "code",
   "execution_count": 50,
   "metadata": {},
   "outputs": [
    {
     "data": {
      "image/png": "[encoded data removed]",
      "text/plain": [
       "<Figure size 432x288 with 1 Axes>"
      ]
     },
     "metadata": {
      "needs_background": "light"
     },
     "output_type": "display_data"
    }
   ],
   "source": [
    "pd.crosstab(sql_df['Sex'],sql_df['Animal Type']).plot(kind='bar')  #cross tab gender and animal type\n",
    "plt.title('Total animal type count with regards to gender')\n",
    "plt.xlabel('Gender')\n",
    "plt.ylabel('Count')\n",
    "plt.savefig('pur_fre_pout_bar')"
   ]
  },
  {
   "cell_type": "code",
   "execution_count": 51,
   "metadata": {},
   "outputs": [
    {
     "data": {
      "text/plain": [
       "<seaborn.axisgrid.JointGrid at 0x295cc34f088>"
      ]
     },
     "execution_count": 51,
     "metadata": {},
     "output_type": "execute_result"
    },
    {
     "data": {
      "image/png": "[encoded data removed]",
      "text/plain": [
       "<Figure size 432x432 with 3 Axes>"
      ]
     },
     "metadata": {
      "needs_background": "light"
     },
     "output_type": "display_data"
    }
   ],
   "source": [
    "# viewing distribution and scatterplot amoung intake and outcome age in years.\n",
    "sns.jointplot(x= 'Intake Age(years)', y= 'Outcome Age(years)', data= sql_df, kind= 'reg')"
   ]
  },
  {
   "cell_type": "code",
   "execution_count": 52,
   "metadata": {},
   "outputs": [],
   "source": [
    "sqlite_connection.close()        # closing database connection"
   ]
  },
  {
   "cell_type": "code",
   "execution_count": null,
   "metadata": {},
   "outputs": [],
   "source": []
  }
 ],
 "metadata": {
  "kernelspec": {
   "display_name": "Python 3",
   "language": "python",
   "name": "python3"
  },
  "language_info": {
   "codemirror_mode": {
    "name": "ipython",
    "version": 3
   },
   "file_extension": ".py",
   "mimetype": "text/x-python",
   "name": "python",
   "nbconvert_exporter": "python",
   "pygments_lexer": "ipython3",
   "version": "3.7.4"
  }
 },
 "nbformat": 4,
 "nbformat_minor": 2
}
